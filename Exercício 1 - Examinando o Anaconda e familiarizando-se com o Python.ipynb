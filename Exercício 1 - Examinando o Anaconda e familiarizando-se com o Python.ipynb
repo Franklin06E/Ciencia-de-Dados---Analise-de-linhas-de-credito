{
 "cells": [
  {
   "cell_type": "markdown",
   "id": "7e7e9e73-8b5b-411f-8ad0-b7e5d2747a7a",
   "metadata": {},
   "source": [
    "# Exercício 1 (Etapa 1): Examinando o Anaconda e familiarizando-se com o Python  \n",
    "    Neste exercício, você examinará os pacotes de sua instalação do Anaconda e manipulará um fluxo de controle básico e algumas estruturas de dados do Python, inclusive um loop for, e as estruturas dict e list. Isso confirmará que concluiu as etapas de instalação do prefácio e mostrará como a sintaxe e as estruturas de dados do Python podem ser um pouco diferentes das de outras linguagens de programação. Execute as etapas a seguir para fazer o exercício:"
   ]
  },
  {
   "attachments": {},
   "cell_type": "markdown",
   "id": "571f2044-d6fe-45e9-b1c4-fc4ac7629223",
   "metadata": {},
   "source": [
    "#### 1. Abra um Terminal, se estiver usando o macOS ou o Linux, ou uma janela de prompt de comando no Windows. Digite conda list na linha de comando. \n",
    "##### R:"
   ]
  },
  {
   "cell_type": "markdown",
   "id": "60e0b056-19cd-43c2-9ca9-97459fd1d2d0",
   "metadata": {},
   "source": [
    "<img src=\"ARQUIVOS/Exercicio1.png\" width=\"550\" weight=\"550\">"
   ]
  },
  {
   "cell_type": "markdown",
   "id": "7f3dfdc0-91c2-44b2-9457-c21d8eb0d780",
   "metadata": {},
   "source": [
    "#### 2. Digite python no Terminal para abrir um interpretador Python de linha de comando. \n",
    "##### R:"
   ]
  },
  {
   "cell_type": "markdown",
   "id": "3e82ac6a-1cd8-4ca6-b1b2-ab0898787123",
   "metadata": {},
   "source": [
    "<img src=\"ARQUIVOS/Exercicio2.png\" width=\"550\" weight=\"550\">"
   ]
  },
  {
   "cell_type": "markdown",
   "id": "0b022c8b-fa68-492b-932a-c74530ad4e8f",
   "metadata": {},
   "source": [
    "#### 3. Crie um loop for no prompt de comando para exibir os valores de 0 a 4 usando o código a seguir:\n",
    "#### for counter in range(5):\n",
    "\n",
    "#### ... print(counter)\n",
    "\n",
    "#### ...\n",
    "\n",
    "##### R:"
   ]
  },
  {
   "cell_type": "markdown",
   "id": "addc34a8-6c5c-4e43-a554-6b4ad7cfcd1d",
   "metadata": {},
   "source": [
    "<img src=\"ARQUIVOS/Exercicio3.png\" width=\"550\" weight=\"550\">"
   ]
  },
  {
   "cell_type": "markdown",
   "id": "8684d6ef-e4dd-44f1-b94c-93e05de0a406",
   "metadata": {},
   "source": [
    "#### 4. Crie um dicionário de frutas (apples [maçãs], oranges [laranjas] e bananas [bananas]) usando o código a seguir:\n",
    "#### example_dict = {'apples':5, 'oranges':8, 'bananas':13}\n",
    "\n",
    "##### R:"
   ]
  },
  {
   "cell_type": "markdown",
   "id": "bb427a4e-34b8-4975-a7b1-fa11315dfe5c",
   "metadata": {},
   "source": [
    "<img src=\"ARQUIVOS/Exercicio4.png\" width=\"550\" weight=\"550\">"
   ]
  },
  {
   "cell_type": "markdown",
   "id": "5efcd2d9-c0ed-4918-9ae3-455ac94a43d3",
   "metadata": {},
   "source": [
    "#### 5. Converta o dicionário em uma lista usando a função list(), como mostrado neste fragmento de código:\n",
    "#### dict_to_list = list(example_dict)\n",
    "#### dict_to_list\n",
    "##### R:"
   ]
  },
  {
   "cell_type": "markdown",
   "id": "a2885313-cf91-4750-852b-4bd449516220",
   "metadata": {},
   "source": [
    "<img src=\"ARQUIVOS/Exercicio5.png\" width=\"550\" weight=\"550\">"
   ]
  }
 ],
 "metadata": {
  "kernelspec": {
   "display_name": "Python 3 (ipykernel)",
   "language": "python",
   "name": "python3"
  },
  "language_info": {
   "codemirror_mode": {
    "name": "ipython",
    "version": 3
   },
   "file_extension": ".py",
   "mimetype": "text/x-python",
   "name": "python",
   "nbconvert_exporter": "python",
   "pygments_lexer": "ipython3",
   "version": "3.12.9"
  }
 },
 "nbformat": 4,
 "nbformat_minor": 5
}
